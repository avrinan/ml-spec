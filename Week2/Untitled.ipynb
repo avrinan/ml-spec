{
 "cells": [
  {
   "cell_type": "code",
   "execution_count": 2,
   "metadata": {
    "collapsed": false
   },
   "outputs": [],
   "source": [
    "import graphlab"
   ]
  },
  {
   "cell_type": "code",
   "execution_count": 5,
   "metadata": {
    "collapsed": false
   },
   "outputs": [
    {
     "data": {
      "text/html": [
       "<pre>Finished parsing file /Users/danielbonini/Developer/MLSpec/Week2/monitor.csv</pre>"
      ],
      "text/plain": [
       "Finished parsing file /Users/danielbonini/Developer/MLSpec/Week2/monitor.csv"
      ]
     },
     "metadata": {},
     "output_type": "display_data"
    },
    {
     "data": {
      "text/html": [
       "<pre>Parsing completed. Parsed 98 lines in 0.020952 secs.</pre>"
      ],
      "text/plain": [
       "Parsing completed. Parsed 98 lines in 0.020952 secs."
      ]
     },
     "metadata": {},
     "output_type": "display_data"
    },
    {
     "name": "stdout",
     "output_type": "stream",
     "text": [
      "------------------------------------------------------\n",
      "Inferred types from first 100 line(s) of file as \n",
      "column_type_hints=[int,int,str,str,int,int,int,str,str]\n",
      "If parsing fails due to incorrect types, you can correct\n",
      "the inferred type list above and pass it to read_csv in\n",
      "the column_type_hints argument\n",
      "------------------------------------------------------\n"
     ]
    },
    {
     "data": {
      "text/html": [
       "<pre>Finished parsing file /Users/danielbonini/Developer/MLSpec/Week2/monitor.csv</pre>"
      ],
      "text/plain": [
       "Finished parsing file /Users/danielbonini/Developer/MLSpec/Week2/monitor.csv"
      ]
     },
     "metadata": {},
     "output_type": "display_data"
    },
    {
     "data": {
      "text/html": [
       "<pre>Parsing completed. Parsed 98 lines in 0.018006 secs.</pre>"
      ],
      "text/plain": [
       "Parsing completed. Parsed 98 lines in 0.018006 secs."
      ]
     },
     "metadata": {},
     "output_type": "display_data"
    }
   ],
   "source": [
    "data = graphlab.SFrame.read_csv('monitor.csv')"
   ]
  },
  {
   "cell_type": "code",
   "execution_count": 6,
   "metadata": {
    "collapsed": false
   },
   "outputs": [
    {
     "data": {
      "text/html": [
       "<div style=\"max-height:1000px;max-width:1500px;overflow:auto;\"><table frame=\"box\" rules=\"cols\">\n",
       "    <tr>\n",
       "        <th style=\"padding-left: 1em; padding-right: 1em; text-align: center\">uact</th>\n",
       "        <th style=\"padding-left: 1em; padding-right: 1em; text-align: center\">pers</th>\n",
       "        <th style=\"padding-left: 1em; padding-right: 1em; text-align: center\">nom_uact</th>\n",
       "        <th style=\"padding-left: 1em; padding-right: 1em; text-align: center\">nom_emp</th>\n",
       "        <th style=\"padding-left: 1em; padding-right: 1em; text-align: center\">emp_id</th>\n",
       "        <th style=\"padding-left: 1em; padding-right: 1em; text-align: center\">contr_id</th>\n",
       "        <th style=\"padding-left: 1em; padding-right: 1em; text-align: center\">cod_ap</th>\n",
       "        <th style=\"padding-left: 1em; padding-right: 1em; text-align: center\">f_ing</th>\n",
       "    </tr>\n",
       "    <tr>\n",
       "        <td style=\"padding-left: 1em; padding-right: 1em; text-align: center; vertical-align: top\">1403558</td>\n",
       "        <td style=\"padding-left: 1em; padding-right: 1em; text-align: center; vertical-align: top\">1704681</td>\n",
       "        <td style=\"padding-left: 1em; padding-right: 1em; text-align: center; vertical-align: top\">JAVIER YURI SAURA MEDINA</td>\n",
       "        <td style=\"padding-left: 1em; padding-right: 1em; text-align: center; vertical-align: top\">PRINCESITA S A</td>\n",
       "        <td style=\"padding-left: 1em; padding-right: 1em; text-align: center; vertical-align: top\">232406</td>\n",
       "        <td style=\"padding-left: 1em; padding-right: 1em; text-align: center; vertical-align: top\">308034</td>\n",
       "        <td style=\"padding-left: 1em; padding-right: 1em; text-align: center; vertical-align: top\">1</td>\n",
       "        <td style=\"padding-left: 1em; padding-right: 1em; text-align: center; vertical-align: top\">23/10/1995</td>\n",
       "    </tr>\n",
       "    <tr>\n",
       "        <td style=\"padding-left: 1em; padding-right: 1em; text-align: center; vertical-align: top\">1403558</td>\n",
       "        <td style=\"padding-left: 1em; padding-right: 1em; text-align: center; vertical-align: top\">1704681</td>\n",
       "        <td style=\"padding-left: 1em; padding-right: 1em; text-align: center; vertical-align: top\">JAVIER YURI SAURA MEDINA</td>\n",
       "        <td style=\"padding-left: 1em; padding-right: 1em; text-align: center; vertical-align: top\">PRINCESITA S A</td>\n",
       "        <td style=\"padding-left: 1em; padding-right: 1em; text-align: center; vertical-align: top\">232406</td>\n",
       "        <td style=\"padding-left: 1em; padding-right: 1em; text-align: center; vertical-align: top\">308034</td>\n",
       "        <td style=\"padding-left: 1em; padding-right: 1em; text-align: center; vertical-align: top\">1</td>\n",
       "        <td style=\"padding-left: 1em; padding-right: 1em; text-align: center; vertical-align: top\">01/12/1995</td>\n",
       "    </tr>\n",
       "    <tr>\n",
       "        <td style=\"padding-left: 1em; padding-right: 1em; text-align: center; vertical-align: top\">1403558</td>\n",
       "        <td style=\"padding-left: 1em; padding-right: 1em; text-align: center; vertical-align: top\">1704681</td>\n",
       "        <td style=\"padding-left: 1em; padding-right: 1em; text-align: center; vertical-align: top\">JAVIER YURI SAURA MEDINA</td>\n",
       "        <td style=\"padding-left: 1em; padding-right: 1em; text-align: center; vertical-align: top\">PRINCESITA S A</td>\n",
       "        <td style=\"padding-left: 1em; padding-right: 1em; text-align: center; vertical-align: top\">232406</td>\n",
       "        <td style=\"padding-left: 1em; padding-right: 1em; text-align: center; vertical-align: top\">308034</td>\n",
       "        <td style=\"padding-left: 1em; padding-right: 1em; text-align: center; vertical-align: top\">1</td>\n",
       "        <td style=\"padding-left: 1em; padding-right: 1em; text-align: center; vertical-align: top\">08/04/1996</td>\n",
       "    </tr>\n",
       "    <tr>\n",
       "        <td style=\"padding-left: 1em; padding-right: 1em; text-align: center; vertical-align: top\">1403558</td>\n",
       "        <td style=\"padding-left: 1em; padding-right: 1em; text-align: center; vertical-align: top\">1704681</td>\n",
       "        <td style=\"padding-left: 1em; padding-right: 1em; text-align: center; vertical-align: top\">JAVIER YURI SAURA MEDINA</td>\n",
       "        <td style=\"padding-left: 1em; padding-right: 1em; text-align: center; vertical-align: top\">PRINCESITA S A</td>\n",
       "        <td style=\"padding-left: 1em; padding-right: 1em; text-align: center; vertical-align: top\">232406</td>\n",
       "        <td style=\"padding-left: 1em; padding-right: 1em; text-align: center; vertical-align: top\">308034</td>\n",
       "        <td style=\"padding-left: 1em; padding-right: 1em; text-align: center; vertical-align: top\">1</td>\n",
       "        <td style=\"padding-left: 1em; padding-right: 1em; text-align: center; vertical-align: top\">02/05/1996</td>\n",
       "    </tr>\n",
       "    <tr>\n",
       "        <td style=\"padding-left: 1em; padding-right: 1em; text-align: center; vertical-align: top\">1403558</td>\n",
       "        <td style=\"padding-left: 1em; padding-right: 1em; text-align: center; vertical-align: top\">1704681</td>\n",
       "        <td style=\"padding-left: 1em; padding-right: 1em; text-align: center; vertical-align: top\">JAVIER YURI SAURA MEDINA</td>\n",
       "        <td style=\"padding-left: 1em; padding-right: 1em; text-align: center; vertical-align: top\">PRINCESITA S A</td>\n",
       "        <td style=\"padding-left: 1em; padding-right: 1em; text-align: center; vertical-align: top\">232406</td>\n",
       "        <td style=\"padding-left: 1em; padding-right: 1em; text-align: center; vertical-align: top\">308034</td>\n",
       "        <td style=\"padding-left: 1em; padding-right: 1em; text-align: center; vertical-align: top\">1</td>\n",
       "        <td style=\"padding-left: 1em; padding-right: 1em; text-align: center; vertical-align: top\">20/06/1996</td>\n",
       "    </tr>\n",
       "    <tr>\n",
       "        <td style=\"padding-left: 1em; padding-right: 1em; text-align: center; vertical-align: top\">1403558</td>\n",
       "        <td style=\"padding-left: 1em; padding-right: 1em; text-align: center; vertical-align: top\">1704681</td>\n",
       "        <td style=\"padding-left: 1em; padding-right: 1em; text-align: center; vertical-align: top\">JAVIER YURI SAURA MEDINA</td>\n",
       "        <td style=\"padding-left: 1em; padding-right: 1em; text-align: center; vertical-align: top\">NAUTIC TOWER S A EN<br>LIQUIDACIÓN LEY 19.288 ...</td>\n",
       "        <td style=\"padding-left: 1em; padding-right: 1em; text-align: center; vertical-align: top\">756953</td>\n",
       "        <td style=\"padding-left: 1em; padding-right: 1em; text-align: center; vertical-align: top\">836822</td>\n",
       "        <td style=\"padding-left: 1em; padding-right: 1em; text-align: center; vertical-align: top\">1</td>\n",
       "        <td style=\"padding-left: 1em; padding-right: 1em; text-align: center; vertical-align: top\">01/03/1997</td>\n",
       "    </tr>\n",
       "    <tr>\n",
       "        <td style=\"padding-left: 1em; padding-right: 1em; text-align: center; vertical-align: top\">1403558</td>\n",
       "        <td style=\"padding-left: 1em; padding-right: 1em; text-align: center; vertical-align: top\">1704681</td>\n",
       "        <td style=\"padding-left: 1em; padding-right: 1em; text-align: center; vertical-align: top\">JAVIER YURI SAURA MEDINA</td>\n",
       "        <td style=\"padding-left: 1em; padding-right: 1em; text-align: center; vertical-align: top\">COOPERATIVA DE PESCADORES<br>DEL SUR(COPESUR) ...</td>\n",
       "        <td style=\"padding-left: 1em; padding-right: 1em; text-align: center; vertical-align: top\">704348</td>\n",
       "        <td style=\"padding-left: 1em; padding-right: 1em; text-align: center; vertical-align: top\">787798</td>\n",
       "        <td style=\"padding-left: 1em; padding-right: 1em; text-align: center; vertical-align: top\">1</td>\n",
       "        <td style=\"padding-left: 1em; padding-right: 1em; text-align: center; vertical-align: top\">15/05/1997</td>\n",
       "    </tr>\n",
       "    <tr>\n",
       "        <td style=\"padding-left: 1em; padding-right: 1em; text-align: center; vertical-align: top\">1403558</td>\n",
       "        <td style=\"padding-left: 1em; padding-right: 1em; text-align: center; vertical-align: top\">1704681</td>\n",
       "        <td style=\"padding-left: 1em; padding-right: 1em; text-align: center; vertical-align: top\">JAVIER YURI SAURA MEDINA</td>\n",
       "        <td style=\"padding-left: 1em; padding-right: 1em; text-align: center; vertical-align: top\">REDECAR SA EN<br>LIQUIDACIÓN LEY 19.288 ...</td>\n",
       "        <td style=\"padding-left: 1em; padding-right: 1em; text-align: center; vertical-align: top\">699934</td>\n",
       "        <td style=\"padding-left: 1em; padding-right: 1em; text-align: center; vertical-align: top\">783604</td>\n",
       "        <td style=\"padding-left: 1em; padding-right: 1em; text-align: center; vertical-align: top\">1</td>\n",
       "        <td style=\"padding-left: 1em; padding-right: 1em; text-align: center; vertical-align: top\">15/07/1997</td>\n",
       "    </tr>\n",
       "    <tr>\n",
       "        <td style=\"padding-left: 1em; padding-right: 1em; text-align: center; vertical-align: top\">1403558</td>\n",
       "        <td style=\"padding-left: 1em; padding-right: 1em; text-align: center; vertical-align: top\">1704681</td>\n",
       "        <td style=\"padding-left: 1em; padding-right: 1em; text-align: center; vertical-align: top\">JAVIER YURI SAURA MEDINA</td>\n",
       "        <td style=\"padding-left: 1em; padding-right: 1em; text-align: center; vertical-align: top\">REDECAR SA EN<br>LIQUIDACIÓN LEY 19.288 ...</td>\n",
       "        <td style=\"padding-left: 1em; padding-right: 1em; text-align: center; vertical-align: top\">699934</td>\n",
       "        <td style=\"padding-left: 1em; padding-right: 1em; text-align: center; vertical-align: top\">783604</td>\n",
       "        <td style=\"padding-left: 1em; padding-right: 1em; text-align: center; vertical-align: top\">1</td>\n",
       "        <td style=\"padding-left: 1em; padding-right: 1em; text-align: center; vertical-align: top\">06/09/1997</td>\n",
       "    </tr>\n",
       "    <tr>\n",
       "        <td style=\"padding-left: 1em; padding-right: 1em; text-align: center; vertical-align: top\">1403558</td>\n",
       "        <td style=\"padding-left: 1em; padding-right: 1em; text-align: center; vertical-align: top\">1704681</td>\n",
       "        <td style=\"padding-left: 1em; padding-right: 1em; text-align: center; vertical-align: top\">JAVIER YURI SAURA MEDINA</td>\n",
       "        <td style=\"padding-left: 1em; padding-right: 1em; text-align: center; vertical-align: top\">POOLEY SA EN LIQUIDACIÓN<br>LEY 19.288 ...</td>\n",
       "        <td style=\"padding-left: 1em; padding-right: 1em; text-align: center; vertical-align: top\">846790</td>\n",
       "        <td style=\"padding-left: 1em; padding-right: 1em; text-align: center; vertical-align: top\">942285</td>\n",
       "        <td style=\"padding-left: 1em; padding-right: 1em; text-align: center; vertical-align: top\">1</td>\n",
       "        <td style=\"padding-left: 1em; padding-right: 1em; text-align: center; vertical-align: top\">01/10/1997</td>\n",
       "    </tr>\n",
       "</table>\n",
       "<table frame=\"box\" rules=\"cols\">\n",
       "    <tr>\n",
       "        <th style=\"padding-left: 1em; padding-right: 1em; text-align: center\">f_egr</th>\n",
       "    </tr>\n",
       "    <tr>\n",
       "        <td style=\"padding-left: 1em; padding-right: 1em; text-align: center; vertical-align: top\">29/11/1995</td>\n",
       "    </tr>\n",
       "    <tr>\n",
       "        <td style=\"padding-left: 1em; padding-right: 1em; text-align: center; vertical-align: top\">01/12/1995</td>\n",
       "    </tr>\n",
       "    <tr>\n",
       "        <td style=\"padding-left: 1em; padding-right: 1em; text-align: center; vertical-align: top\">18/04/1996</td>\n",
       "    </tr>\n",
       "    <tr>\n",
       "        <td style=\"padding-left: 1em; padding-right: 1em; text-align: center; vertical-align: top\">25/05/1996</td>\n",
       "    </tr>\n",
       "    <tr>\n",
       "        <td style=\"padding-left: 1em; padding-right: 1em; text-align: center; vertical-align: top\">04/07/1996</td>\n",
       "    </tr>\n",
       "    <tr>\n",
       "        <td style=\"padding-left: 1em; padding-right: 1em; text-align: center; vertical-align: top\">01/04/1997</td>\n",
       "    </tr>\n",
       "    <tr>\n",
       "        <td style=\"padding-left: 1em; padding-right: 1em; text-align: center; vertical-align: top\">14/07/1997</td>\n",
       "    </tr>\n",
       "    <tr>\n",
       "        <td style=\"padding-left: 1em; padding-right: 1em; text-align: center; vertical-align: top\">28/08/1997</td>\n",
       "    </tr>\n",
       "    <tr>\n",
       "        <td style=\"padding-left: 1em; padding-right: 1em; text-align: center; vertical-align: top\">24/09/1997</td>\n",
       "    </tr>\n",
       "    <tr>\n",
       "        <td style=\"padding-left: 1em; padding-right: 1em; text-align: center; vertical-align: top\">05/12/1997</td>\n",
       "    </tr>\n",
       "</table>\n",
       "[98 rows x 9 columns]<br/>Note: Only the head of the SFrame is printed.<br/>You can use print_rows(num_rows=m, num_columns=n) to print more rows and columns.\n",
       "</div>"
      ],
      "text/plain": [
       "Columns:\n",
       "\tuact\tint\n",
       "\tpers\tint\n",
       "\tnom_uact\tstr\n",
       "\tnom_emp\tstr\n",
       "\temp_id\tint\n",
       "\tcontr_id\tint\n",
       "\tcod_ap\tint\n",
       "\tf_ing\tstr\n",
       "\tf_egr\tstr\n",
       "\n",
       "Rows: 98\n",
       "\n",
       "Data:\n",
       "+---------+---------+--------------------------+-------------------------------+\n",
       "|   uact  |   pers  |         nom_uact         |            nom_emp            |\n",
       "+---------+---------+--------------------------+-------------------------------+\n",
       "| 1403558 | 1704681 | JAVIER YURI SAURA MEDINA |         PRINCESITA S A        |\n",
       "| 1403558 | 1704681 | JAVIER YURI SAURA MEDINA |         PRINCESITA S A        |\n",
       "| 1403558 | 1704681 | JAVIER YURI SAURA MEDINA |         PRINCESITA S A        |\n",
       "| 1403558 | 1704681 | JAVIER YURI SAURA MEDINA |         PRINCESITA S A        |\n",
       "| 1403558 | 1704681 | JAVIER YURI SAURA MEDINA |         PRINCESITA S A        |\n",
       "| 1403558 | 1704681 | JAVIER YURI SAURA MEDINA | NAUTIC TOWER S A EN LIQUID... |\n",
       "| 1403558 | 1704681 | JAVIER YURI SAURA MEDINA | COOPERATIVA DE PESCADORES ... |\n",
       "| 1403558 | 1704681 | JAVIER YURI SAURA MEDINA | REDECAR SA EN LIQUIDACIÓN ... |\n",
       "| 1403558 | 1704681 | JAVIER YURI SAURA MEDINA | REDECAR SA EN LIQUIDACIÓN ... |\n",
       "| 1403558 | 1704681 | JAVIER YURI SAURA MEDINA | POOLEY SA EN LIQUIDACIÓN L... |\n",
       "+---------+---------+--------------------------+-------------------------------+\n",
       "+--------+----------+--------+------------+------------+\n",
       "| emp_id | contr_id | cod_ap |   f_ing    |   f_egr    |\n",
       "+--------+----------+--------+------------+------------+\n",
       "| 232406 |  308034  |   1    | 23/10/1995 | 29/11/1995 |\n",
       "| 232406 |  308034  |   1    | 01/12/1995 | 01/12/1995 |\n",
       "| 232406 |  308034  |   1    | 08/04/1996 | 18/04/1996 |\n",
       "| 232406 |  308034  |   1    | 02/05/1996 | 25/05/1996 |\n",
       "| 232406 |  308034  |   1    | 20/06/1996 | 04/07/1996 |\n",
       "| 756953 |  836822  |   1    | 01/03/1997 | 01/04/1997 |\n",
       "| 704348 |  787798  |   1    | 15/05/1997 | 14/07/1997 |\n",
       "| 699934 |  783604  |   1    | 15/07/1997 | 28/08/1997 |\n",
       "| 699934 |  783604  |   1    | 06/09/1997 | 24/09/1997 |\n",
       "| 846790 |  942285  |   1    | 01/10/1997 | 05/12/1997 |\n",
       "+--------+----------+--------+------------+------------+\n",
       "[98 rows x 9 columns]\n",
       "Note: Only the head of the SFrame is printed.\n",
       "You can use print_rows(num_rows=m, num_columns=n) to print more rows and columns."
      ]
     },
     "execution_count": 6,
     "metadata": {},
     "output_type": "execute_result"
    }
   ],
   "source": [
    "data"
   ]
  },
  {
   "cell_type": "code",
   "execution_count": 7,
   "metadata": {
    "collapsed": false
   },
   "outputs": [
    {
     "data": {
      "application/javascript": [
       "$(\"head\").append($(\"<link/>\").attr({\n",
       "  rel:  \"stylesheet\",\n",
       "  type: \"text/css\",\n",
       "  href: \"//cdnjs.cloudflare.com/ajax/libs/font-awesome/4.1.0/css/font-awesome.min.css\"\n",
       "}));\n",
       "$(\"head\").append($(\"<link/>\").attr({\n",
       "  rel:  \"stylesheet\",\n",
       "  type: \"text/css\",\n",
       "  href: \"https://static.turi.com/products/graphlab-create/2.1/canvas/css/canvas.css\"\n",
       "}));\n",
       "\n",
       "            (function(){\n",
       "\n",
       "                var e = null;\n",
       "                if (typeof element == 'undefined') {\n",
       "                    var scripts = document.getElementsByTagName('script');\n",
       "                    var thisScriptTag = scripts[scripts.length-1];\n",
       "                    var parentDiv = thisScriptTag.parentNode;\n",
       "                    e = document.createElement('div');\n",
       "                    parentDiv.appendChild(e);\n",
       "                } else {\n",
       "                    e = element[0];\n",
       "                }\n",
       "\n",
       "                if (typeof requirejs !== 'undefined') {\n",
       "                    // disable load timeout; ipython_app.js is large and can take a while to load.\n",
       "                    requirejs.config({waitSeconds: 0});\n",
       "                }\n",
       "\n",
       "                require(['https://static.turi.com/products/graphlab-create/2.1/canvas/js/ipython_app.js'], function(IPythonApp){\n",
       "                    var app = new IPythonApp();\n",
       "                    app.attachView('sframe','Plots', {\"selected_variable\": {\"name\": [\"data\"], \"descriptives\": {\"rows\": 98, \"columns\": 9}, \"view_component\": \"Plots\", \"view_file\": \"sframe\", \"view_params\": {\"y\": \"pers\", \"x\": \"emp_id\", \"columns\": [\"uact\", \"pers\", \"nom_uact\", \"nom_emp\", \"emp_id\", \"contr_id\", \"cod_ap\", \"f_ing\", \"f_egr\"], \"view\": \"Scatter Plot\"}, \"view_components\": [\"Summary\", \"Table\", \"Bar Chart\", \"BoxWhisker Plot\", \"Line Chart\", \"Scatter Plot\", \"Heat Map\", \"Plots\"], \"type\": \"SFrame\", \"columns\": [{\"dtype\": \"int\", \"name\": \"uact\"}, {\"dtype\": \"int\", \"name\": \"pers\"}, {\"dtype\": \"str\", \"name\": \"nom_uact\"}, {\"dtype\": \"str\", \"name\": \"nom_emp\"}, {\"dtype\": \"int\", \"name\": \"emp_id\"}, {\"dtype\": \"int\", \"name\": \"contr_id\"}, {\"dtype\": \"int\", \"name\": \"cod_ap\"}, {\"dtype\": \"str\", \"name\": \"f_ing\"}, {\"dtype\": \"str\", \"name\": \"f_egr\"}], \"column_identifiers\": [\"nom_emp\", \"nom_uact\", \"f_ing\", \"pers\", \"cod_ap\", \"emp_id\", \"f_egr\", \"contr_id\", \"uact\"]}, \"complete\": 1, \"ipython\": true, \"progress\": 1.0, \"data\": [[232406, 1704681], [232406, 1704681], [232406, 1704681], [232406, 1704681], [232406, 1704681], [756953, 1704681], [704348, 1704681], [699934, 1704681], [699934, 1704681], [846790, 1704681], [313015, 1704681], [762105, 1704681], [710965, 1704681], [523859, 1704681], [1059299, 1704681], [312036, 1704681], [1179314, 1704681], [945041, 1704681], [232406, 1704681], [226968, 1704681], [1243078, 1704681], [5020935, 1704681], [5058500, 1704681], [5020935, 1704681], [5206138, 1704681], [5879343, 1704681], [5689721, 1704681], [524014, 1704681], [5250325, 1704681], [191433, 2153613], [62808, 2153613], [62808, 2153613], [1295869, 2153613], [6023113, 2153613], [23739, 2153613], [6220314, 2153613], [5879343, 5171193], [524014, 5171193], [524014, 5171193], [5689721, 5171193], [524014, 5171193], [524014, 5171193], [524014, 5171193], [5689721, 5171193], [204514, 1922895], [306258, 1922895], [938070, 1922895], [667152, 1922895], [6220314, 1922895], [30110, 5381202], [5772032, 5381202], [6192043, 5381202], [5689721, 5381202], [5117294, 2651341], [6111477, 2651341], [6192043, 2651341], [524014, 2651341], [703715, 5166378], [1007713, 5166378], [703715, 5166378], [578477, 5166378], [5047933, 5166378], [1299347, 5166378], [1164573, 5166378], [634440, 5166378], [634440, 5166378], [936796, 5166378], [524014, 5166378], [524014, 5166378], [67774, 2734767], [115526, 2734767], [524007, 2734767], [523981, 2734767], [857921, 2734767], [5256674, 2734767], [5276958, 2734767], [54600, 2734767], [5222892, 2734767], [5026772, 2734767], [1033993, 3256483], [1050448, 3256483], [570508, 3256483], [5066390, 3256483], [5009782, 3256483], [5278505, 3256483], [5126252, 3256483], [1180798, 3256483], [1198381, 3256483], [523819, 3256483], [923206, 3256483], [5445183, 3256483], [6220314, 3256483], [5377076, 3256483], [428486, 508856], [5689721, 508856], [537874, 1472417], [5036461, 1472417], [6220314, 1472417]], \"columns\": [{\"dtype\": \"int\", \"name\": \"uact\"}, {\"dtype\": \"int\", \"name\": \"pers\"}, {\"dtype\": \"str\", \"name\": \"nom_uact\"}, {\"dtype\": \"str\", \"name\": \"nom_emp\"}, {\"dtype\": \"int\", \"name\": \"emp_id\"}, {\"dtype\": \"int\", \"name\": \"contr_id\"}, {\"dtype\": \"int\", \"name\": \"cod_ap\"}, {\"dtype\": \"str\", \"name\": \"f_ing\"}, {\"dtype\": \"str\", \"name\": \"f_egr\"}]}, e);\n",
       "                });\n",
       "            })();\n",
       "        "
      ]
     },
     "metadata": {},
     "output_type": "display_data"
    }
   ],
   "source": [
    "graphlab.canvas.set_target('ipynb')\n",
    "data.show(view='Scatter Plot', x='emp_id', y='pers')"
   ]
  },
  {
   "cell_type": "code",
   "execution_count": 9,
   "metadata": {
    "collapsed": false
   },
   "outputs": [
    {
     "data": {
      "application/javascript": [
       "$(\"head\").append($(\"<link/>\").attr({\n",
       "  rel:  \"stylesheet\",\n",
       "  type: \"text/css\",\n",
       "  href: \"//cdnjs.cloudflare.com/ajax/libs/font-awesome/4.1.0/css/font-awesome.min.css\"\n",
       "}));\n",
       "$(\"head\").append($(\"<link/>\").attr({\n",
       "  rel:  \"stylesheet\",\n",
       "  type: \"text/css\",\n",
       "  href: \"https://static.turi.com/products/graphlab-create/2.1/canvas/css/canvas.css\"\n",
       "}));\n",
       "\n",
       "            (function(){\n",
       "\n",
       "                var e = null;\n",
       "                if (typeof element == 'undefined') {\n",
       "                    var scripts = document.getElementsByTagName('script');\n",
       "                    var thisScriptTag = scripts[scripts.length-1];\n",
       "                    var parentDiv = thisScriptTag.parentNode;\n",
       "                    e = document.createElement('div');\n",
       "                    parentDiv.appendChild(e);\n",
       "                } else {\n",
       "                    e = element[0];\n",
       "                }\n",
       "\n",
       "                if (typeof requirejs !== 'undefined') {\n",
       "                    // disable load timeout; ipython_app.js is large and can take a while to load.\n",
       "                    requirejs.config({waitSeconds: 0});\n",
       "                }\n",
       "\n",
       "                require(['https://static.turi.com/products/graphlab-create/2.1/canvas/js/ipython_app.js'], function(IPythonApp){\n",
       "                    var app = new IPythonApp();\n",
       "                    app.attachView('sframe','Summary', {\"ipython\": true, \"sketch\": {\"nom_emp\": {\"complete\": true, \"numeric\": false, \"num_unique\": 71, \"num_undefined\": 0, \"progress\": 1.0, \"frequent_items\": {\"LIMPANEX SRL\": {\"frequency\": 1, \"value\": \"LIMPANEX SRL\"}, \"BARUCH BASHAN SRL\": {\"frequency\": 1, \"value\": \"BARUCH BASHAN SRL\"}, \"CASMU INSTITUCION DE ASISTENCIA MEDICA PRIVADA DE\": {\"frequency\": 1, \"value\": \"CASMU INSTITUCION ...\"}, \"MAR DEL SUR S.A.\": {\"frequency\": 1, \"value\": \"MAR DEL SUR S.A.\"}, \"COOPERATIVA DEL ESTE (CODES)\": {\"frequency\": 1, \"value\": \"COOPERATIVA DEL ...\"}, \"FERNANDEZ QUESADA LUIS AGUSTIN\": {\"frequency\": 1, \"value\": \"FERNANDEZ QUESADA ...\"}, \"CANCELA MARRA JORGE MATIAS\": {\"frequency\": 1, \"value\": \"CANCELA MARRA ...\"}, \"LOGISTIC SYB SRL\": {\"frequency\": 4, \"value\": \"LOGISTIC SYB SRL\"}, \"MADYTEL SA\": {\"frequency\": 2, \"value\": \"MADYTEL SA\"}, \"RAHEDO INVESTMENTS SA\": {\"frequency\": 1, \"value\": \"RAHEDO INVESTMENTS ...\"}, \"LOS DOMINGUEZ SA\": {\"frequency\": 1, \"value\": \"LOS DOMINGUEZ SA\"}, \"SUPERMERCADOS DISCO DEL URUGUAY SA\": {\"frequency\": 1, \"value\": \"SUPERMERCADOS ...\"}, \"CREDITOS DIRECTOS SA\": {\"frequency\": 1, \"value\": \"CREDITOS DIRECTOS ...\"}, \"VALEFYR SA\": {\"frequency\": 1, \"value\": \"VALEFYR SA\"}, \"LANDASUR SA\": {\"frequency\": 1, \"value\": \"LANDASUR SA\"}, \"URUKOR SA\": {\"frequency\": 1, \"value\": \"URUKOR SA\"}, \"BARDINOL SA\": {\"frequency\": 1, \"value\": \"BARDINOL SA\"}, \"BIGOR SA EN LIQUIDACI\\ufffd\\ufffdN LEY 19.288\": {\"frequency\": 1, \"value\": \"BIGOR SA EN ...\"}, \"NOAR LTDA\": {\"frequency\": 1, \"value\": \"NOAR LTDA\"}, \"SAURA MEDINA CLAUDIA JACQUELINE\": {\"frequency\": 1, \"value\": \"SAURA MEDINA ...\"}, \"COVISEL LTDA\": {\"frequency\": 1, \"value\": \"COVISEL LTDA\"}, \"PREGO GALIMBERTI MARIA INES\": {\"frequency\": 1, \"value\": \"PREGO GALIMBERTI ...\"}, \"MARTINEZ GONZALEZ HUGO ALBERTO\": {\"frequency\": 1, \"value\": \"MARTINEZ GONZALEZ ...\"}, \"KAMPANTE S.R.L.\": {\"frequency\": 1, \"value\": \"KAMPANTE S.R.L.\"}, \"PARODI NELSON Y GONZALEZ MABEL\": {\"frequency\": 1, \"value\": \"PARODI NELSON Y ...\"}, \"SERVICIO MEDICO INTEGRAL\": {\"frequency\": 9, \"value\": \"SERVICIO MEDICO ...\"}, \"FERRMAR ASOCIADOS S.R.L.\": {\"frequency\": 2, \"value\": \"FERRMAR ASOCIADOS ...\"}, \"24 HORAS OPERATIVA EMPRESARIAL SRL\": {\"frequency\": 1, \"value\": \"24 HORAS OPERATIVA ...\"}, \"NALTILEX SA\": {\"frequency\": 1, \"value\": \"NALTILEX SA\"}, \"LECEMUR SA\": {\"frequency\": 1, \"value\": \"LECEMUR SA\"}, \"REDECAR SA EN LIQUIDACI\\ufffd\\ufffdN LEY 19.288\": {\"frequency\": 2, \"value\": \"REDECAR SA EN ...\"}, \"GABELUR SA EN LIQUIDACI\\ufffd\\ufffdN LEY 19.288\": {\"frequency\": 1, \"value\": \"GABELUR SA EN ...\"}, \"FABAMOR SA\": {\"frequency\": 1, \"value\": \"FABAMOR SA\"}, \"THE QUEEN'S TRANSPORT SRL\": {\"frequency\": 1, \"value\": \"THE QUEEN'S ...\"}, \"BRUNO GONZALEZ GUSTAVO AGUSTIN\": {\"frequency\": 1, \"value\": \"BRUNO GONZALEZ ...\"}, \"ANEP\": {\"frequency\": 1, \"value\": \"ANEP\"}, \"BRUNO CERQUEIRAS ANTONELLA\": {\"frequency\": 5, \"value\": \"BRUNO CERQUEIRAS ...\"}, \"MEDINA CARDOZO NORMA MABEL\": {\"frequency\": 1, \"value\": \"MEDINA CARDOZO ...\"}, \"BARRERA BRUNO ANDREA KARINA Y SAURA MEDINA JAVIER\": {\"frequency\": 1, \"value\": \"BARRERA BRUNO ...\"}, \"POOLEY SA EN LIQUIDACI\\ufffd\\ufffdN LEY 19.288\": {\"frequency\": 1, \"value\": \"POOLEY SA EN ...\"}, \"ASTILLEROS ROSENDO S.A.\": {\"frequency\": 1, \"value\": \"ASTILLEROS ROSENDO ...\"}, \"COOPERATIVA DE PESCADORES DEL SUR(COPESUR)\": {\"frequency\": 1, \"value\": \"COOPERATIVA DE ...\"}, \"PROSEGUR URUGUAY COMPA\\ufffd\\ufffdIA DE SEGURIDAD SA\": {\"frequency\": 1, \"value\": \"PROSEGUR URUGUAY ...\"}, \"ADECCO URUGUAY SA\": {\"frequency\": 1, \"value\": \"ADECCO URUGUAY SA\"}, \"PRADELIX SA\": {\"frequency\": 1, \"value\": \"PRADELIX SA\"}, \"ADMINISTRACION NACIONAL DE LOS SERVICIOS DE ESTIBA\": {\"frequency\": 1, \"value\": \"ADMINISTRACION ...\"}, \"CLADISOL SA\": {\"frequency\": 2, \"value\": \"CLADISOL SA\"}, \"CLIBA INGENIERIA AMBIENTAL SA SUC UR-ORMAS AMBIENT\": {\"frequency\": 1, \"value\": \"CLIBA INGENIERIA ...\"}, \"IDEFOTO SA\": {\"frequency\": 2, \"value\": \"IDEFOTO SA\"}, \"ALBERTI SIRTORI SEBASTIAN OMAR\": {\"frequency\": 1, \"value\": \"ALBERTI SIRTORI ...\"}, \"BIEN IGUAL LTDA.\": {\"frequency\": 1, \"value\": \"BIEN IGUAL LTDA.\"}, \"MARTINEZ MALCOM FABIAN\": {\"frequency\": 1, \"value\": \"MARTINEZ MALCOM ...\"}, \"BILWALD SA\": {\"frequency\": 1, \"value\": \"BILWALD SA\"}, \"ARVIAL SA\": {\"frequency\": 1, \"value\": \"ARVIAL SA\"}, \"CERQUEIRAS MAMMOLITI MARIA GABRIELA\": {\"frequency\": 1, \"value\": \"CERQUEIRAS ...\"}, \"CHANALT SA\": {\"frequency\": 1, \"value\": \"CHANALT SA\"}, \"CIRCULO CATOLICO DE OBREROS DEL URUGUAY MUTUALISTA\": {\"frequency\": 1, \"value\": \"CIRCULO CATOLICO ...\"}, \"LIDERLOS SA\": {\"frequency\": 1, \"value\": \"LIDERLOS SA\"}, \"BENITO ROGGIO E HIJOS SA-ORMAS SA-EQUIPOS Y\": {\"frequency\": 1, \"value\": \"BENITO ROGGIO E ...\"}, \"GLOBAL SERVICE UNO SRL\": {\"frequency\": 1, \"value\": \"GLOBAL SERVICE UNO ...\"}, \"REICH ACQUARONE MARTHA TERESA\": {\"frequency\": 1, \"value\": \"REICH ACQUARONE ...\"}, \"SAURA MEDINA JAVIER YURI\": {\"frequency\": 2, \"value\": \"SAURA MEDINA ...\"}, \"MAZZEI BLANCO FERNANDO EDUARDO\": {\"frequency\": 1, \"value\": \"MAZZEI BLANCO ...\"}, \"SECURITAS URUGUAY SA\": {\"frequency\": 1, \"value\": \"SECURITAS URUGUAY ...\"}, \"MARKESAU SRL\": {\"frequency\": 1, \"value\": \"MARKESAU SRL\"}, \"PRINCESITA S A\": {\"frequency\": 6, \"value\": \"PRINCESITA S A\"}, \"NAUTIC TOWER S A EN LIQUIDACI\\ufffd\\ufffdN LEY 19.288\": {\"frequency\": 1, \"value\": \"NAUTIC TOWER S A ...\"}, \"MIMATEC SA\": {\"frequency\": 1, \"value\": \"MIMATEC SA\"}, \"TUKI PRODUCCIONES SRL\": {\"frequency\": 2, \"value\": \"TUKI PRODUCCIONES ...\"}, \"POMPONIO GOMEZ JORGE EDUARDO\": {\"frequency\": 1, \"value\": \"POMPONIO GOMEZ ...\"}, \"LEDEBIL SA\": {\"frequency\": 1, \"value\": \"LEDEBIL SA\"}}, \"size\": 98}, \"nom_uact\": {\"complete\": true, \"numeric\": false, \"num_unique\": 11, \"num_undefined\": 0, \"progress\": 1.0, \"frequent_items\": {\"JAVIER YURI SAURA MEDINA\": {\"frequency\": 29, \"value\": \"JAVIER YURI SAURA ...\"}, \"GUSTAVO AGUSTIN BRUNO GONZALEZ\": {\"frequency\": 2, \"value\": \"GUSTAVO AGUSTIN ...\"}, \"NORMA MABEL MEDINA CARDOZO\": {\"frequency\": 5, \"value\": \"NORMA MABEL MEDINA ...\"}, \"MAGDALENA YERES ENRIQUE BELL\": {\"frequency\": 4, \"value\": \"MAGDALENA YERES ...\"}, \"MARIA GABRIELA CERQUEIRAS MAMMOLITI\": {\"frequency\": 3, \"value\": \"MARIA GABRIELA ...\"}, \"LOURDES MARIA DE ARMAS COLLAZO\": {\"frequency\": 12, \"value\": \"LOURDES MARIA DE ...\"}, \"ANTONELLA - BRUNO CERQUEIRAS\": {\"frequency\": 8, \"value\": \"ANTONELLA - BRUNO ...\"}, \"VALERIA SOLEDAD ICAZURIAGA MEDINA\": {\"frequency\": 7, \"value\": \"VALERIA SOLEDAD ...\"}, \"RAUL S OJEDA CABRERA\": {\"frequency\": 10, \"value\": \"RAUL S OJEDA ...\"}, \"DARWIN RICARDO PRIETO BOTTARO\": {\"frequency\": 14, \"value\": \"DARWIN RICARDO ...\"}, \"AGUSTIN GABRIEL BRUNO CERQUEIRAS\": {\"frequency\": 4, \"value\": \"AGUSTIN GABRIEL ...\"}}, \"size\": 98}, \"f_ing\": {\"complete\": true, \"numeric\": false, \"num_unique\": 94, \"num_undefined\": 0, \"progress\": 1.0, \"frequent_items\": {\"13/08/2014\": {\"frequency\": 1, \"value\": \"13/08/2014\"}, \"05/09/2014\": {\"frequency\": 1, \"value\": \"05/09/2014\"}, \"05/09/2012\": {\"frequency\": 1, \"value\": \"05/09/2012\"}, \"02/05/1996\": {\"frequency\": 1, \"value\": \"02/05/1996\"}, \"17/02/2014\": {\"frequency\": 1, \"value\": \"17/02/2014\"}, \"01/09/2015\": {\"frequency\": 1, \"value\": \"01/09/2015\"}, \"20/11/2012\": {\"frequency\": 1, \"value\": \"20/11/2012\"}, \"06/07/2009\": {\"frequency\": 1, \"value\": \"06/07/2009\"}, \"11/04/2016\": {\"frequency\": 1, \"value\": \"11/04/2016\"}, \"28/01/2012\": {\"frequency\": 1, \"value\": \"28/01/2012\"}, \"13/10/2015\": {\"frequency\": 1, \"value\": \"13/10/2015\"}, \"28/08/2013\": {\"frequency\": 1, \"value\": \"28/08/2013\"}, \"12/01/2009\": {\"frequency\": 1, \"value\": \"12/01/2009\"}, \"17/12/1997\": {\"frequency\": 1, \"value\": \"17/12/1997\"}, \"01/12/1995\": {\"frequency\": 1, \"value\": \"01/12/1995\"}, \"25/05/2012\": {\"frequency\": 1, \"value\": \"25/05/2012\"}, \"16/12/2010\": {\"frequency\": 1, \"value\": \"16/12/2010\"}, \"01/11/2016\": {\"frequency\": 1, \"value\": \"01/11/2016\"}, \"04/11/2001\": {\"frequency\": 1, \"value\": \"04/11/2001\"}, \"25/07/2014\": {\"frequency\": 1, \"value\": \"25/07/2014\"}, \"09/06/2004\": {\"frequency\": 1, \"value\": \"09/06/2004\"}, \"13/10/2005\": {\"frequency\": 1, \"value\": \"13/10/2005\"}, \"02/07/2014\": {\"frequency\": 1, \"value\": \"02/07/2014\"}, \"02/07/2015\": {\"frequency\": 1, \"value\": \"02/07/2015\"}, \"28/11/2013\": {\"frequency\": 1, \"value\": \"28/11/2013\"}, \"01/09/2010\": {\"frequency\": 1, \"value\": \"01/09/2010\"}, \"10/06/2005\": {\"frequency\": 1, \"value\": \"10/06/2005\"}, \"10/08/2010\": {\"frequency\": 1, \"value\": \"10/08/2010\"}, \"28/10/2015\": {\"frequency\": 1, \"value\": \"28/10/2015\"}, \"27/08/2015\": {\"frequency\": 1, \"value\": \"27/08/2015\"}, \"01/12/2016\": {\"frequency\": 1, \"value\": \"01/12/2016\"}, \"02/05/2003\": {\"frequency\": 1, \"value\": \"02/05/2003\"}, \"02/05/2000\": {\"frequency\": 1, \"value\": \"02/05/2000\"}, \"04/01/2017\": {\"frequency\": 1, \"value\": \"04/01/2017\"}, \"18/03/2015\": {\"frequency\": 1, \"value\": \"18/03/2015\"}, \"12/05/2016\": {\"frequency\": 2, \"value\": \"12/05/2016\"}, \"15/06/2012\": {\"frequency\": 1, \"value\": \"15/06/2012\"}, \"30/01/2017\": {\"frequency\": 3, \"value\": \"30/01/2017\"}, \"30/01/2015\": {\"frequency\": 1, \"value\": \"30/01/2015\"}, \"17/12/2007\": {\"frequency\": 1, \"value\": \"17/12/2007\"}, \"03/01/2017\": {\"frequency\": 1, \"value\": \"03/01/2017\"}, \"07/12/2006\": {\"frequency\": 1, \"value\": \"07/12/2006\"}, \"10/12/2010\": {\"frequency\": 1, \"value\": \"10/12/2010\"}, \"01/11/1998\": {\"frequency\": 1, \"value\": \"01/11/1998\"}, \"01/03/2003\": {\"frequency\": 1, \"value\": \"01/03/2003\"}, \"13/03/2013\": {\"frequency\": 1, \"value\": \"13/03/2013\"}, \"29/08/2003\": {\"frequency\": 1, \"value\": \"29/08/2003\"}, \"19/11/2012\": {\"frequency\": 1, \"value\": \"19/11/2012\"}, \"26/06/2008\": {\"frequency\": 1, \"value\": \"26/06/2008\"}, \"05/07/2011\": {\"frequency\": 1, \"value\": \"05/07/2011\"}, \"06/03/2015\": {\"frequency\": 1, \"value\": \"06/03/2015\"}, \"22/03/2012\": {\"frequency\": 1, \"value\": \"22/03/2012\"}, \"09/08/2003\": {\"frequency\": 1, \"value\": \"09/08/2003\"}, \"12/12/2014\": {\"frequency\": 1, \"value\": \"12/12/2014\"}, \"01/07/1989\": {\"frequency\": 1, \"value\": \"01/07/1989\"}, \"11/06/2015\": {\"frequency\": 1, \"value\": \"11/06/2015\"}, \"01/03/1997\": {\"frequency\": 2, \"value\": \"01/03/1997\"}, \"01/08/1998\": {\"frequency\": 1, \"value\": \"01/08/1998\"}, \"26/12/1989\": {\"frequency\": 1, \"value\": \"26/12/1989\"}, \"25/10/2007\": {\"frequency\": 1, \"value\": \"25/10/2007\"}, \"18/09/2007\": {\"frequency\": 1, \"value\": \"18/09/2007\"}, \"06/03/2006\": {\"frequency\": 1, \"value\": \"06/03/2006\"}, \"06/06/2014\": {\"frequency\": 1, \"value\": \"06/06/2014\"}, \"31/03/2016\": {\"frequency\": 1, \"value\": \"31/03/2016\"}, \"27/05/2011\": {\"frequency\": 1, \"value\": \"27/05/2011\"}, \"06/10/2003\": {\"frequency\": 1, \"value\": \"06/10/2003\"}, \"15/05/1997\": {\"frequency\": 1, \"value\": \"15/05/1997\"}, \"02/12/2008\": {\"frequency\": 1, \"value\": \"02/12/2008\"}, \"13/06/2009\": {\"frequency\": 1, \"value\": \"13/06/2009\"}, \"20/05/2011\": {\"frequency\": 1, \"value\": \"20/05/2011\"}, \"11/12/2015\": {\"frequency\": 1, \"value\": \"11/12/2015\"}, \"20/06/1996\": {\"frequency\": 1, \"value\": \"20/06/1996\"}, \"01/02/2016\": {\"frequency\": 1, \"value\": \"01/02/2016\"}, \"04/09/2008\": {\"frequency\": 1, \"value\": \"04/09/2008\"}, \"15/07/1997\": {\"frequency\": 1, \"value\": \"15/07/1997\"}, \"06/08/2014\": {\"frequency\": 1, \"value\": \"06/08/2014\"}, \"11/06/1999\": {\"frequency\": 1, \"value\": \"11/06/1999\"}, \"09/03/2010\": {\"frequency\": 1, \"value\": \"09/03/2010\"}, \"08/04/1996\": {\"frequency\": 1, \"value\": \"08/04/1996\"}, \"14/03/2001\": {\"frequency\": 1, \"value\": \"14/03/2001\"}, \"23/10/1995\": {\"frequency\": 1, \"value\": \"23/10/1995\"}, \"02/01/1998\": {\"frequency\": 1, \"value\": \"02/01/1998\"}, \"18/09/2012\": {\"frequency\": 1, \"value\": \"18/09/2012\"}, \"08/01/1999\": {\"frequency\": 1, \"value\": \"08/01/1999\"}, \"05/11/2001\": {\"frequency\": 1, \"value\": \"05/11/2001\"}, \"05/09/2009\": {\"frequency\": 1, \"value\": \"05/09/2009\"}, \"09/11/2015\": {\"frequency\": 1, \"value\": \"09/11/2015\"}, \"30/05/2016\": {\"frequency\": 1, \"value\": \"30/05/2016\"}, \"26/07/2016\": {\"frequency\": 1, \"value\": \"26/07/2016\"}, \"06/09/1997\": {\"frequency\": 1, \"value\": \"06/09/1997\"}, \"14/03/2015\": {\"frequency\": 1, \"value\": \"14/03/2015\"}, \"25/09/2014\": {\"frequency\": 1, \"value\": \"25/09/2014\"}, \"28/08/1992\": {\"frequency\": 1, \"value\": \"28/08/1992\"}, \"01/10/1997\": {\"frequency\": 1, \"value\": \"01/10/1997\"}}, \"size\": 98}, \"pers\": {\"std\": 1419037.4809083063, \"complete\": true, \"min\": 508856.0, \"max\": 5381202.0, \"quantile\": [508856.0, 508856.0, 508856.0, 1472417.0, 1472417.0, 1472417.0, 1704681.0, 1704681.0, 1704681.0, 1704681.0, 1704681.0, 1704681.0, 1704681.0, 1704681.0, 1704681.0, 1704681.0, 1704681.0, 1704681.0, 1704681.0, 1704681.0, 1704681.0, 1704681.0, 1704681.0, 1704681.0, 1704681.0, 1704681.0, 1704681.0, 1704681.0, 1704681.0, 1704681.0, 1704681.0, 1704681.0, 1704681.0, 1704681.0, 1704681.0, 1922895.0, 1922895.0, 1922895.0, 1922895.0, 1922895.0, 2153613.0, 2153613.0, 2153613.0, 2153613.0, 2153613.0, 2153613.0, 2153613.0, 2651341.0, 2651341.0, 2651341.0, 2651341.0, 2651341.0, 2734767.0, 2734767.0, 2734767.0, 2734767.0, 2734767.0, 2734767.0, 2734767.0, 2734767.0, 2734767.0, 2734767.0, 3256483.0, 3256483.0, 3256483.0, 3256483.0, 3256483.0, 3256483.0, 3256483.0, 3256483.0, 3256483.0, 3256483.0, 3256483.0, 3256483.0, 3256483.0, 3256483.0, 5166378.0, 5166378.0, 5166378.0, 5166378.0, 5166378.0, 5166378.0, 5166378.0, 5166378.0, 5166378.0, 5166378.0, 5166378.0, 5166378.0, 5171193.0, 5171193.0, 5171193.0, 5171193.0, 5171193.0, 5171193.0, 5171193.0, 5171193.0, 5381202.0, 5381202.0, 5381202.0, 5381202.0, 5381202.0], \"median\": 2651341.0, \"numeric\": true, \"num_unique\": 11, \"num_undefined\": 0, \"var\": 2013667372222.5918, \"progress\": 1.0, \"size\": 98, \"frequent_items\": {\"1472417\": {\"frequency\": 3, \"value\": 1472417}, \"3256483\": {\"frequency\": 14, \"value\": 3256483}, \"1704681\": {\"frequency\": 29, \"value\": 1704681}, \"5166378\": {\"frequency\": 12, \"value\": 5166378}, \"2651341\": {\"frequency\": 4, \"value\": 2651341}, \"1922895\": {\"frequency\": 5, \"value\": 1922895}, \"2153613\": {\"frequency\": 7, \"value\": 2153613}, \"5381202\": {\"frequency\": 4, \"value\": 5381202}, \"508856\": {\"frequency\": 2, \"value\": 508856}, \"5171193\": {\"frequency\": 8, \"value\": 5171193}, \"2734767\": {\"frequency\": 10, \"value\": 2734767}}, \"mean\": 2938726.142857143}, \"cod_ap\": {\"std\": 6.64708007093248, \"complete\": true, \"min\": 1.0, \"max\": 48.0, \"quantile\": [1.0, 1.0, 1.0, 1.0, 1.0, 1.0, 1.0, 1.0, 1.0, 1.0, 1.0, 1.0, 1.0, 1.0, 1.0, 1.0, 1.0, 1.0, 1.0, 1.0, 1.0, 1.0, 1.0, 1.0, 1.0, 1.0, 1.0, 1.0, 1.0, 1.0, 1.0, 1.0, 1.0, 1.0, 1.0, 1.0, 1.0, 1.0, 1.0, 1.0, 1.0, 1.0, 1.0, 1.0, 1.0, 1.0, 1.0, 1.0, 1.0, 1.0, 1.0, 1.0, 1.0, 1.0, 1.0, 1.0, 1.0, 1.0, 1.0, 1.0, 1.0, 1.0, 1.0, 1.0, 1.0, 1.0, 1.0, 1.0, 1.0, 1.0, 1.0, 1.0, 1.0, 1.0, 1.0, 1.0, 1.0, 1.0, 1.0, 1.0, 1.0, 1.0, 1.0, 1.0, 1.0, 1.0, 1.0, 1.0, 1.0, 1.0, 1.0, 1.0, 1.0, 1.0, 1.0, 1.0, 2.0, 4.0, 48.0, 48.0, 48.0], \"median\": 1.0, \"numeric\": true, \"num_unique\": 4, \"num_undefined\": 0, \"var\": 44.18367346938775, \"progress\": 1.0, \"size\": 98, \"frequent_items\": {\"48\": {\"frequency\": 2, \"value\": 48}, \"1\": {\"frequency\": 94, \"value\": 1}, \"2\": {\"frequency\": 1, \"value\": 2}, \"4\": {\"frequency\": 1, \"value\": 4}}, \"mean\": 2.0}, \"emp_id\": {\"std\": 2382728.665479015, \"complete\": true, \"min\": 23739.0, \"max\": 6220314.0, \"quantile\": [23739.0, 23739.0, 30110.0, 54600.0, 62808.0, 62808.0, 67774.0, 115526.0, 191433.0, 204514.0, 226968.0, 232406.0, 232406.0, 232406.0, 232406.0, 232406.0, 232406.0, 306258.0, 312036.0, 313015.0, 428486.0, 523819.0, 523859.0, 523981.0, 524007.0, 524014.0, 524014.0, 524014.0, 524014.0, 524014.0, 524014.0, 524014.0, 524014.0, 524014.0, 537874.0, 570508.0, 578477.0, 634440.0, 634440.0, 667152.0, 699934.0, 699934.0, 703715.0, 703715.0, 704348.0, 710965.0, 756953.0, 762105.0, 846790.0, 857921.0, 923206.0, 923206.0, 936796.0, 938070.0, 945041.0, 1007713.0, 1033993.0, 1050448.0, 1059299.0, 1164573.0, 1179314.0, 1180798.0, 1198381.0, 1243078.0, 1295869.0, 1299347.0, 5009782.0, 5020935.0, 5020935.0, 5026772.0, 5036461.0, 5047933.0, 5058500.0, 5066390.0, 5117294.0, 5126252.0, 5206138.0, 5222892.0, 5250325.0, 5256674.0, 5276958.0, 5278505.0, 5377076.0, 5445183.0, 5689721.0, 5689721.0, 5689721.0, 5689721.0, 5689721.0, 5772032.0, 5879343.0, 5879343.0, 6023113.0, 6111477.0, 6192043.0, 6192043.0, 6220314.0, 6220314.0, 6220314.0, 6220314.0, 6220314.0], \"median\": 923206.0, \"numeric\": true, \"num_unique\": 71, \"num_undefined\": 0, \"var\": 5677395893295.409, \"progress\": 1.0, \"size\": 98, \"frequent_items\": {\"5772032\": {\"frequency\": 1, \"value\": 5772032}, \"6192043\": {\"frequency\": 2, \"value\": 6192043}, \"938070\": {\"frequency\": 1, \"value\": 938070}, \"5020935\": {\"frequency\": 2, \"value\": 5020935}, \"428486\": {\"frequency\": 1, \"value\": 428486}, \"1033993\": {\"frequency\": 1, \"value\": 1033993}, \"570508\": {\"frequency\": 1, \"value\": 570508}, \"1198381\": {\"frequency\": 1, \"value\": 1198381}, \"667152\": {\"frequency\": 1, \"value\": 667152}, \"945041\": {\"frequency\": 1, \"value\": 945041}, \"537874\": {\"frequency\": 1, \"value\": 537874}, \"1299347\": {\"frequency\": 1, \"value\": 1299347}, \"5250325\": {\"frequency\": 1, \"value\": 5250325}, \"5066390\": {\"frequency\": 1, \"value\": 5066390}, \"226968\": {\"frequency\": 1, \"value\": 226968}, \"6220314\": {\"frequency\": 4, \"value\": 6220314}, \"1164573\": {\"frequency\": 1, \"value\": 1164573}, \"699934\": {\"frequency\": 2, \"value\": 699934}, \"846790\": {\"frequency\": 1, \"value\": 846790}, \"936796\": {\"frequency\": 1, \"value\": 936796}, \"523819\": {\"frequency\": 1, \"value\": 523819}, \"5036461\": {\"frequency\": 1, \"value\": 5036461}, \"5879343\": {\"frequency\": 2, \"value\": 5879343}, \"5256674\": {\"frequency\": 1, \"value\": 5256674}, \"54600\": {\"frequency\": 1, \"value\": 54600}, \"1179314\": {\"frequency\": 1, \"value\": 1179314}, \"5377076\": {\"frequency\": 1, \"value\": 5377076}, \"5276958\": {\"frequency\": 1, \"value\": 5276958}, \"30110\": {\"frequency\": 1, \"value\": 30110}, \"313015\": {\"frequency\": 1, \"value\": 313015}, \"23739\": {\"frequency\": 1, \"value\": 23739}, \"67774\": {\"frequency\": 1, \"value\": 67774}, \"710965\": {\"frequency\": 1, \"value\": 710965}, \"857921\": {\"frequency\": 1, \"value\": 857921}, \"5058500\": {\"frequency\": 1, \"value\": 5058500}, \"923206\": {\"frequency\": 1, \"value\": 923206}, \"634440\": {\"frequency\": 2, \"value\": 634440}, \"191433\": {\"frequency\": 1, \"value\": 191433}, \"523981\": {\"frequency\": 1, \"value\": 523981}, \"1050448\": {\"frequency\": 1, \"value\": 1050448}, \"6023113\": {\"frequency\": 1, \"value\": 6023113}, \"523859\": {\"frequency\": 1, \"value\": 523859}, \"115526\": {\"frequency\": 1, \"value\": 115526}, \"232406\": {\"frequency\": 6, \"value\": 232406}, \"5689721\": {\"frequency\": 5, \"value\": 5689721}, \"62808\": {\"frequency\": 2, \"value\": 62808}, \"756953\": {\"frequency\": 1, \"value\": 756953}, \"704348\": {\"frequency\": 1, \"value\": 704348}, \"5047933\": {\"frequency\": 1, \"value\": 5047933}, \"1007713\": {\"frequency\": 1, \"value\": 1007713}, \"204514\": {\"frequency\": 1, \"value\": 204514}, \"703715\": {\"frequency\": 2, \"value\": 703715}, \"312036\": {\"frequency\": 1, \"value\": 312036}, \"524014\": {\"frequency\": 9, \"value\": 524014}, \"524007\": {\"frequency\": 1, \"value\": 524007}, \"578477\": {\"frequency\": 1, \"value\": 578477}, \"5222892\": {\"frequency\": 1, \"value\": 5222892}, \"306258\": {\"frequency\": 1, \"value\": 306258}, \"5117294\": {\"frequency\": 1, \"value\": 5117294}, \"1059299\": {\"frequency\": 1, \"value\": 1059299}, \"5126252\": {\"frequency\": 1, \"value\": 5126252}, \"6111477\": {\"frequency\": 1, \"value\": 6111477}, \"5009782\": {\"frequency\": 1, \"value\": 5009782}, \"5278505\": {\"frequency\": 1, \"value\": 5278505}, \"1243078\": {\"frequency\": 1, \"value\": 1243078}, \"762105\": {\"frequency\": 1, \"value\": 762105}, \"5206138\": {\"frequency\": 1, \"value\": 5206138}, \"5445183\": {\"frequency\": 1, \"value\": 5445183}, \"5026772\": {\"frequency\": 1, \"value\": 5026772}, \"1295869\": {\"frequency\": 1, \"value\": 1295869}, \"1180798\": {\"frequency\": 1, \"value\": 1180798}}, \"mean\": 2309752.653061224}, \"f_egr\": {\"complete\": true, \"numeric\": false, \"num_unique\": 84, \"num_undefined\": 0, \"progress\": 1.0, \"frequent_items\": {\"18/04/1996\": {\"frequency\": 1, \"value\": \"18/04/1996\"}, \"14/07/1997\": {\"frequency\": 1, \"value\": \"14/07/1997\"}, \"31/05/2010\": {\"frequency\": 1, \"value\": \"31/05/2010\"}, \"16/01/2017\": {\"frequency\": 1, \"value\": \"16/01/2017\"}, \"18/12/1998\": {\"frequency\": 1, \"value\": \"18/12/1998\"}, \"04/07/1996\": {\"frequency\": 1, \"value\": \"04/07/1996\"}, \"31/08/2005\": {\"frequency\": 1, \"value\": \"31/08/2005\"}, \"08/01/1998\": {\"frequency\": 1, \"value\": \"08/01/1998\"}, \"13/06/2011\": {\"frequency\": 1, \"value\": \"13/06/2011\"}, \"10/05/2016\": {\"frequency\": 1, \"value\": \"10/05/2016\"}, \"28/12/2010\": {\"frequency\": 1, \"value\": \"28/12/2010\"}, \"31/07/2013\": {\"frequency\": 1, \"value\": \"31/07/2013\"}, \"31/07/2014\": {\"frequency\": 1, \"value\": \"31/07/2014\"}, \"02/11/2008\": {\"frequency\": 1, \"value\": \"02/11/2008\"}, \"19/12/2015\": {\"frequency\": 1, \"value\": \"19/12/2015\"}, \"14/09/2011\": {\"frequency\": 1, \"value\": \"14/09/2011\"}, \"10/07/2016\": {\"frequency\": 1, \"value\": \"10/07/2016\"}, \"10/07/2015\": {\"frequency\": 1, \"value\": \"10/07/2015\"}, \"15/11/2001\": {\"frequency\": 1, \"value\": \"15/11/2001\"}, \"06/11/2015\": {\"frequency\": 1, \"value\": \"06/11/2015\"}, \"01/04/1997\": {\"frequency\": 1, \"value\": \"01/04/1997\"}, \"10/07/2014\": {\"frequency\": 1, \"value\": \"10/07/2014\"}, \"21/03/2011\": {\"frequency\": 1, \"value\": \"21/03/2011\"}, \"31/03/2000\": {\"frequency\": 1, \"value\": \"31/03/2000\"}, \"15/12/2016\": {\"frequency\": 1, \"value\": \"15/12/2016\"}, \"04/11/1998\": {\"frequency\": 1, \"value\": \"04/11/1998\"}, \"15/07/2016\": {\"frequency\": 1, \"value\": \"15/07/2016\"}, \"31/12/2014\": {\"frequency\": 2, \"value\": \"31/12/2014\"}, \"15/07/2014\": {\"frequency\": 1, \"value\": \"15/07/2014\"}, \"24/09/1997\": {\"frequency\": 1, \"value\": \"24/09/1997\"}, \"29/03/2009\": {\"frequency\": 1, \"value\": \"29/03/2009\"}, \"23/01/1999\": {\"frequency\": 1, \"value\": \"23/01/1999\"}, \"30/08/2013\": {\"frequency\": 1, \"value\": \"30/08/2013\"}, \"31/12/2500\": {\"frequency\": 11, \"value\": \"31/12/2500\"}, \"18/01/2016\": {\"frequency\": 1, \"value\": \"18/01/2016\"}, \"29/05/2015\": {\"frequency\": 1, \"value\": \"29/05/2015\"}, \"30/09/1998\": {\"frequency\": 1, \"value\": \"30/09/1998\"}, \"01/12/1995\": {\"frequency\": 1, \"value\": \"01/12/1995\"}, \"17/08/2009\": {\"frequency\": 1, \"value\": \"17/08/2009\"}, \"19/02/2015\": {\"frequency\": 1, \"value\": \"19/02/2015\"}, \"03/03/2015\": {\"frequency\": 1, \"value\": \"03/03/2015\"}, \"09/12/2014\": {\"frequency\": 1, \"value\": \"09/12/2014\"}, \"15/06/1999\": {\"frequency\": 1, \"value\": \"15/06/1999\"}, \"31/05/2008\": {\"frequency\": 1, \"value\": \"31/05/2008\"}, \"05/12/2003\": {\"frequency\": 1, \"value\": \"05/12/2003\"}, \"18/08/2003\": {\"frequency\": 1, \"value\": \"18/08/2003\"}, \"07/04/2016\": {\"frequency\": 1, \"value\": \"07/04/2016\"}, \"29/11/1995\": {\"frequency\": 1, \"value\": \"29/11/1995\"}, \"31/10/2009\": {\"frequency\": 1, \"value\": \"31/10/2009\"}, \"17/11/2014\": {\"frequency\": 2, \"value\": \"17/11/2014\"}, \"24/10/2012\": {\"frequency\": 1, \"value\": \"24/10/2012\"}, \"31/07/2002\": {\"frequency\": 1, \"value\": \"31/07/2002\"}, \"11/06/2007\": {\"frequency\": 1, \"value\": \"11/06/2007\"}, \"26/12/2016\": {\"frequency\": 1, \"value\": \"26/12/2016\"}, \"30/09/2012\": {\"frequency\": 2, \"value\": \"30/09/2012\"}, \"10/04/2003\": {\"frequency\": 1, \"value\": \"10/04/2003\"}, \"30/11/2011\": {\"frequency\": 1, \"value\": \"30/11/2011\"}, \"03/01/2007\": {\"frequency\": 1, \"value\": \"03/01/2007\"}, \"28/02/1990\": {\"frequency\": 1, \"value\": \"28/02/1990\"}, \"23/09/2015\": {\"frequency\": 1, \"value\": \"23/09/2015\"}, \"20/12/2008\": {\"frequency\": 1, \"value\": \"20/12/2008\"}, \"14/03/2015\": {\"frequency\": 1, \"value\": \"14/03/2015\"}, \"14/05/2003\": {\"frequency\": 1, \"value\": \"14/05/2003\"}, \"10/11/2001\": {\"frequency\": 1, \"value\": \"10/11/2001\"}, \"28/08/1997\": {\"frequency\": 1, \"value\": \"28/08/1997\"}, \"27/01/2008\": {\"frequency\": 1, \"value\": \"27/01/2008\"}, \"12/11/2006\": {\"frequency\": 1, \"value\": \"12/11/2006\"}, \"04/07/2000\": {\"frequency\": 1, \"value\": \"04/07/2000\"}, \"15/12/2014\": {\"frequency\": 1, \"value\": \"15/12/2014\"}, \"30/04/2016\": {\"frequency\": 1, \"value\": \"30/04/2016\"}, \"30/04/2010\": {\"frequency\": 1, \"value\": \"30/04/2010\"}, \"31/12/2007\": {\"frequency\": 1, \"value\": \"31/12/2007\"}, \"10/09/2016\": {\"frequency\": 1, \"value\": \"10/09/2016\"}, \"31/01/2012\": {\"frequency\": 1, \"value\": \"31/01/2012\"}, \"15/12/2010\": {\"frequency\": 1, \"value\": \"15/12/2010\"}, \"25/05/1996\": {\"frequency\": 1, \"value\": \"25/05/1996\"}, \"24/03/2012\": {\"frequency\": 1, \"value\": \"24/03/2012\"}, \"28/08/2014\": {\"frequency\": 1, \"value\": \"28/08/2014\"}, \"24/05/2011\": {\"frequency\": 1, \"value\": \"24/05/2011\"}, \"31/10/1997\": {\"frequency\": 1, \"value\": \"31/10/1997\"}, \"05/12/1997\": {\"frequency\": 1, \"value\": \"05/12/1997\"}, \"23/10/2014\": {\"frequency\": 2, \"value\": \"23/10/2014\"}, \"03/10/2003\": {\"frequency\": 1, \"value\": \"03/10/2003\"}, \"18/01/2010\": {\"frequency\": 1, \"value\": \"18/01/2010\"}}, \"size\": 98}, \"contr_id\": {\"std\": 2274495.6120190388, \"complete\": true, \"min\": 35167.0, \"max\": 5927499.0, \"quantile\": [35167.0, 35167.0, 43813.0, 76907.0, 88616.0, 88616.0, 95410.0, 156927.0, 246440.0, 260171.0, 297017.0, 308034.0, 308034.0, 308034.0, 308034.0, 308034.0, 308034.0, 388252.0, 395098.0, 514506.0, 532469.0, 532510.0, 551607.0, 590895.0, 590899.0, 590899.0, 590899.0, 590899.0, 590899.0, 590899.0, 590899.0, 590899.0, 590899.0, 604920.0, 641101.0, 665765.0, 721053.0, 721053.0, 744589.0, 752573.0, 783604.0, 783604.0, 787221.0, 787221.0, 787798.0, 793929.0, 836822.0, 841485.0, 942285.0, 952940.0, 1013838.0, 1013838.0, 1026371.0, 1027666.0, 1034219.0, 1092308.0, 1116675.0, 1131768.0, 1139989.0, 1240187.0, 1254005.0, 1255365.0, 1271859.0, 1314943.0, 1327068.0, 1366969.0, 1370334.0, 5008808.0, 5018673.0, 5018673.0, 5023957.0, 5034955.0, 5046252.0, 5056806.0, 5111546.0, 5119752.0, 5187743.0, 5201803.0, 5225063.0, 5230414.0, 5247328.0, 5248638.0, 5334781.0, 5393231.0, 5536844.0, 5536844.0, 5536844.0, 5536844.0, 5536844.0, 5599403.0, 5696613.0, 5696613.0, 5767970.0, 5839530.0, 5904918.0, 5904918.0, 5927499.0, 5927499.0, 5927499.0, 5927499.0, 5927499.0], \"median\": 1013838.0, \"numeric\": true, \"num_unique\": 71, \"num_undefined\": 0, \"var\": 5173330289093.862, \"progress\": 1.0, \"size\": 98, \"frequent_items\": {\"1116675\": {\"frequency\": 1, \"value\": 1116675}, \"787798\": {\"frequency\": 1, \"value\": 787798}, \"5119752\": {\"frequency\": 1, \"value\": 5119752}, \"952940\": {\"frequency\": 1, \"value\": 952940}, \"5201803\": {\"frequency\": 1, \"value\": 5201803}, \"841485\": {\"frequency\": 1, \"value\": 841485}, \"156927\": {\"frequency\": 1, \"value\": 156927}, \"1034219\": {\"frequency\": 1, \"value\": 1034219}, \"787221\": {\"frequency\": 2, \"value\": 787221}, \"1139989\": {\"frequency\": 1, \"value\": 1139989}, \"5904918\": {\"frequency\": 2, \"value\": 5904918}, \"388252\": {\"frequency\": 1, \"value\": 388252}, \"721053\": {\"frequency\": 2, \"value\": 721053}, \"532510\": {\"frequency\": 1, \"value\": 532510}, \"5187743\": {\"frequency\": 1, \"value\": 5187743}, \"5767970\": {\"frequency\": 1, \"value\": 5767970}, \"5008808\": {\"frequency\": 1, \"value\": 5008808}, \"665765\": {\"frequency\": 1, \"value\": 665765}, \"5056806\": {\"frequency\": 1, \"value\": 5056806}, \"88616\": {\"frequency\": 2, \"value\": 88616}, \"5839530\": {\"frequency\": 1, \"value\": 5839530}, \"5599403\": {\"frequency\": 1, \"value\": 5599403}, \"590895\": {\"frequency\": 1, \"value\": 590895}, \"5018673\": {\"frequency\": 2, \"value\": 5018673}, \"95410\": {\"frequency\": 1, \"value\": 95410}, \"590899\": {\"frequency\": 9, \"value\": 590899}, \"43813\": {\"frequency\": 1, \"value\": 43813}, \"551607\": {\"frequency\": 1, \"value\": 551607}, \"297017\": {\"frequency\": 1, \"value\": 297017}, \"752573\": {\"frequency\": 1, \"value\": 752573}, \"532469\": {\"frequency\": 1, \"value\": 532469}, \"1271859\": {\"frequency\": 1, \"value\": 1271859}, \"308034\": {\"frequency\": 6, \"value\": 308034}, \"1026371\": {\"frequency\": 1, \"value\": 1026371}, \"1255365\": {\"frequency\": 1, \"value\": 1255365}, \"793929\": {\"frequency\": 1, \"value\": 793929}, \"514506\": {\"frequency\": 1, \"value\": 514506}, \"260171\": {\"frequency\": 1, \"value\": 260171}, \"5536844\": {\"frequency\": 5, \"value\": 5536844}, \"942285\": {\"frequency\": 1, \"value\": 942285}, \"1013838\": {\"frequency\": 1, \"value\": 1013838}, \"744589\": {\"frequency\": 1, \"value\": 744589}, \"604920\": {\"frequency\": 1, \"value\": 604920}, \"1027666\": {\"frequency\": 1, \"value\": 1027666}, \"1092308\": {\"frequency\": 1, \"value\": 1092308}, \"5230414\": {\"frequency\": 1, \"value\": 5230414}, \"836822\": {\"frequency\": 1, \"value\": 836822}, \"1366969\": {\"frequency\": 1, \"value\": 1366969}, \"395098\": {\"frequency\": 1, \"value\": 395098}, \"5393231\": {\"frequency\": 1, \"value\": 5393231}, \"1327068\": {\"frequency\": 1, \"value\": 1327068}, \"1370334\": {\"frequency\": 1, \"value\": 1370334}, \"35167\": {\"frequency\": 1, \"value\": 35167}, \"5247328\": {\"frequency\": 1, \"value\": 5247328}, \"5927499\": {\"frequency\": 4, \"value\": 5927499}, \"5023957\": {\"frequency\": 1, \"value\": 5023957}, \"5696613\": {\"frequency\": 2, \"value\": 5696613}, \"5225063\": {\"frequency\": 1, \"value\": 5225063}, \"76907\": {\"frequency\": 1, \"value\": 76907}, \"5046252\": {\"frequency\": 1, \"value\": 5046252}, \"5034955\": {\"frequency\": 1, \"value\": 5034955}, \"246440\": {\"frequency\": 1, \"value\": 246440}, \"783604\": {\"frequency\": 2, \"value\": 783604}, \"1254005\": {\"frequency\": 1, \"value\": 1254005}, \"1131768\": {\"frequency\": 1, \"value\": 1131768}, \"641101\": {\"frequency\": 1, \"value\": 641101}, \"5111546\": {\"frequency\": 1, \"value\": 5111546}, \"1240187\": {\"frequency\": 1, \"value\": 1240187}, \"5334781\": {\"frequency\": 1, \"value\": 5334781}, \"5248638\": {\"frequency\": 1, \"value\": 5248638}, \"1314943\": {\"frequency\": 1, \"value\": 1314943}}, \"mean\": 2280661.704081633}, \"uact\": {\"std\": 66499.08162592717, \"complete\": true, \"min\": 1403558.0, \"max\": 1562624.0, \"quantile\": [1403558.0, 1403558.0, 1403558.0, 1403558.0, 1403558.0, 1403558.0, 1403558.0, 1403558.0, 1403558.0, 1403558.0, 1403558.0, 1403558.0, 1403558.0, 1403558.0, 1403558.0, 1403558.0, 1403558.0, 1403558.0, 1403558.0, 1403558.0, 1403558.0, 1403558.0, 1403558.0, 1403558.0, 1403558.0, 1403558.0, 1403558.0, 1403558.0, 1403558.0, 1403558.0, 1485819.0, 1485819.0, 1485819.0, 1485819.0, 1485819.0, 1485819.0, 1485819.0, 1541806.0, 1541806.0, 1541806.0, 1541806.0, 1541806.0, 1541806.0, 1541806.0, 1541806.0, 1542590.0, 1542590.0, 1542590.0, 1542590.0, 1542590.0, 1542596.0, 1542596.0, 1542596.0, 1542596.0, 1542596.0, 1550075.0, 1550075.0, 1550075.0, 1550075.0, 1550120.0, 1550120.0, 1550120.0, 1550120.0, 1550120.0, 1550120.0, 1550120.0, 1550120.0, 1550120.0, 1550120.0, 1550120.0, 1550120.0, 1550136.0, 1550136.0, 1550136.0, 1550136.0, 1550136.0, 1550136.0, 1550136.0, 1550136.0, 1550136.0, 1550136.0, 1558349.0, 1558349.0, 1558349.0, 1558349.0, 1558349.0, 1558349.0, 1558349.0, 1558349.0, 1558349.0, 1558349.0, 1558349.0, 1558349.0, 1558349.0, 1558349.0, 1562623.0, 1562623.0, 1562624.0, 1562624.0, 1562624.0, 1562624.0], \"median\": 1542596.0, \"numeric\": true, \"num_unique\": 11, \"num_undefined\": 0, \"var\": 4422127857.091724, \"progress\": 1.0, \"size\": 98, \"frequent_items\": {\"1562624\": {\"frequency\": 3, \"value\": 1562624}, \"1485819\": {\"frequency\": 7, \"value\": 1485819}, \"1542596\": {\"frequency\": 4, \"value\": 1542596}, \"1403558\": {\"frequency\": 29, \"value\": 1403558}, \"1550120\": {\"frequency\": 12, \"value\": 1550120}, \"1558349\": {\"frequency\": 14, \"value\": 1558349}, \"1541806\": {\"frequency\": 8, \"value\": 1541806}, \"1550136\": {\"frequency\": 10, \"value\": 1550136}, \"1550075\": {\"frequency\": 4, \"value\": 1550075}, \"1542590\": {\"frequency\": 5, \"value\": 1542590}, \"1562623\": {\"frequency\": 2, \"value\": 1562623}}, \"mean\": 1502600.0102040817}}, \"selected_variable\": {\"name\": [\"data\"], \"descriptives\": {\"rows\": 98, \"columns\": 9}, \"view_component\": \"Summary\", \"view_file\": \"sframe\", \"view_params\": {\"y\": null, \"x\": null, \"columns\": [\"uact\", \"pers\", \"nom_uact\", \"nom_emp\", \"emp_id\", \"contr_id\", \"cod_ap\", \"f_ing\", \"f_egr\"], \"view\": null}, \"view_components\": [\"Summary\", \"Table\", \"Bar Chart\", \"BoxWhisker Plot\", \"Line Chart\", \"Scatter Plot\", \"Heat Map\", \"Plots\"], \"type\": \"SFrame\", \"columns\": [{\"dtype\": \"int\", \"name\": \"uact\"}, {\"dtype\": \"int\", \"name\": \"pers\"}, {\"dtype\": \"str\", \"name\": \"nom_uact\"}, {\"dtype\": \"str\", \"name\": \"nom_emp\"}, {\"dtype\": \"int\", \"name\": \"emp_id\"}, {\"dtype\": \"int\", \"name\": \"contr_id\"}, {\"dtype\": \"int\", \"name\": \"cod_ap\"}, {\"dtype\": \"str\", \"name\": \"f_ing\"}, {\"dtype\": \"str\", \"name\": \"f_egr\"}], \"column_identifiers\": [\"nom_emp\", \"nom_uact\", \"f_ing\", \"pers\", \"cod_ap\", \"emp_id\", \"f_egr\", \"contr_id\", \"uact\"]}, \"columns\": [{\"dtype\": \"int\", \"name\": \"uact\"}, {\"dtype\": \"int\", \"name\": \"pers\"}, {\"dtype\": \"str\", \"name\": \"nom_uact\"}, {\"dtype\": \"str\", \"name\": \"nom_emp\"}, {\"dtype\": \"int\", \"name\": \"emp_id\"}, {\"dtype\": \"int\", \"name\": \"contr_id\"}, {\"dtype\": \"int\", \"name\": \"cod_ap\"}, {\"dtype\": \"str\", \"name\": \"f_ing\"}, {\"dtype\": \"str\", \"name\": \"f_egr\"}]}, e);\n",
       "                });\n",
       "            })();\n",
       "        "
      ]
     },
     "metadata": {},
     "output_type": "display_data"
    }
   ],
   "source": [
    "data.show(view='BoxWhisker Plot', x='emp_id', y='desc_uac')"
   ]
  },
  {
   "cell_type": "code",
   "execution_count": null,
   "metadata": {
    "collapsed": true
   },
   "outputs": [],
   "source": []
  }
 ],
 "metadata": {
  "kernelspec": {
   "display_name": "Python 2",
   "language": "python",
   "name": "python2"
  },
  "language_info": {
   "codemirror_mode": {
    "name": "ipython",
    "version": 2
   },
   "file_extension": ".py",
   "mimetype": "text/x-python",
   "name": "python",
   "nbconvert_exporter": "python",
   "pygments_lexer": "ipython2",
   "version": "2.7.11"
  }
 },
 "nbformat": 4,
 "nbformat_minor": 0
}
